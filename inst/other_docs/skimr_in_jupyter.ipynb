{
 "cells": [
  {
   "cell_type": "code",
   "execution_count": 3,
   "metadata": {},
   "outputs": [],
   "source": [
    "library(skimr)\n",
    "options(width = 90)"
   ]
  },
  {
   "cell_type": "code",
   "execution_count": 4,
   "metadata": {
    "scrolled": false
   },
   "outputs": [
    {
     "name": "stdout",
     "output_type": "stream",
     "text": [
      "── Data Summary ────────────────────────\n",
      "                        Value\n",
      "Name                     iris\n",
      "Number of rows            150\n",
      "Number of columns           5\n",
      "                             \n",
      "Column type frequency:       \n",
      "  factor                    1\n",
      "  numeric                   4\n",
      "                             \n",
      "Group variables          None\n",
      "\n",
      "── Variable type: factor ─────────────────────────────────────────────────────────────────\n",
      "  skim_variable missing complete     n ordered n_unique top_counts               \n",
      "1 Species             0      150   150 FALSE          3 set: 50, ver: 50, vir: 50\n",
      "\n",
      "── Variable type: numeric ────────────────────────────────────────────────────────────────\n",
      "  skim_variable missing complete     n  mean    sd    p0   p25   p50   p75  p100 hist \n",
      "1 Sepal.Length        0      150   150  5.84 0.828   4.3   5.1  5.8    6.4   7.9 ▆▇▇▅▂\n",
      "2 Sepal.Width         0      150   150  3.06 0.436   2     2.8  3      3.3   4.4 ▁▆▇▂▁\n",
      "3 Petal.Length        0      150   150  3.76 1.77    1     1.6  4.35   5.1   6.9 ▇▁▆▇▂\n",
      "4 Petal.Width         0      150   150  1.20 0.762   0.1   0.3  1.3    1.8   2.5 ▇▁▇▅▃\n"
     ]
    }
   ],
   "source": [
    "skim(iris)"
   ]
  },
  {
   "cell_type": "code",
   "execution_count": 5,
   "metadata": {},
   "outputs": [
    {
     "data": {},
     "metadata": {},
     "output_type": "display_data"
    },
    {
     "name": "stdout",
     "output_type": "stream",
     "text": [
      "$factor\n",
      "\n",
      "── Variable type: factor ─────────────────────────────────────────────────────────────────\n",
      "  skim_variable missing complete     n ordered n_unique top_counts               \n",
      "1 Species             0      150   150 FALSE          3 set: 50, ver: 50, vir: 50\n",
      "\n",
      "$numeric\n",
      "\n",
      "── Variable type: numeric ────────────────────────────────────────────────────────────────\n",
      "  skim_variable missing complete     n  mean    sd    p0   p25   p50   p75  p100 hist \n",
      "1 Sepal.Length        0      150   150  5.84 0.828   4.3   5.1  5.8    6.4   7.9 ▆▇▇▅▂\n",
      "2 Sepal.Width         0      150   150  3.06 0.436   2     2.8  3      3.3   4.4 ▁▆▇▂▁\n",
      "3 Petal.Length        0      150   150  3.76 1.77    1     1.6  4.35   5.1   6.9 ▇▁▆▇▂\n",
      "4 Petal.Width         0      150   150  1.20 0.762   0.1   0.3  1.3    1.8   2.5 ▇▁▇▅▃\n",
      "\n"
     ]
    }
   ],
   "source": [
    "skim(iris) |>\n",
    "  partition()"
   ]
  },
  {
   "cell_type": "code",
   "execution_count": 6,
   "metadata": {},
   "outputs": [
    {
     "name": "stdout",
     "output_type": "stream",
     "text": [
      "\n",
      "── Variable type: numeric ────────────────────────────────────────────────────────────────\n",
      "  skim_variable missing complete     n  mean    sd    p0   p25   p50   p75  p100 hist \n",
      "1 Sepal.Length        0      150   150  5.84 0.828   4.3   5.1  5.8    6.4   7.9 ▆▇▇▅▂\n",
      "2 Sepal.Width         0      150   150  3.06 0.436   2     2.8  3      3.3   4.4 ▁▆▇▂▁\n",
      "3 Petal.Length        0      150   150  3.76 1.77    1     1.6  4.35   5.1   6.9 ▇▁▆▇▂\n",
      "4 Petal.Width         0      150   150  1.20 0.762   0.1   0.3  1.3    1.8   2.5 ▇▁▇▅▃\n"
     ]
    }
   ],
   "source": [
    "skim(iris) |>\n",
    "  yank(\"numeric\")"
   ]
  }
 ],
 "metadata": {
  "kernelspec": {
   "display_name": "R",
   "language": "R",
   "name": "ir"
  },
  "language_info": {
   "codemirror_mode": "r",
   "file_extension": ".r",
   "mimetype": "text/x-r-source",
   "name": "R",
   "pygments_lexer": "r",
   "version": "3.5.3"
  }
 },
 "nbformat": 4,
 "nbformat_minor": 2
}
